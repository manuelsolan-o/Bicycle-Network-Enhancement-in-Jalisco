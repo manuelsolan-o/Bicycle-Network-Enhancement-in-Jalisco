{
 "cells": [
  {
   "cell_type": "code",
   "execution_count": null,
   "id": "76a88652",
   "metadata": {},
   "outputs": [],
   "source": []
  },
  {
   "cell_type": "code",
   "execution_count": 1,
   "id": "27f36994",
   "metadata": {},
   "outputs": [],
   "source": [
    "import pandas as pd\n",
    "from math import ceil\n",
    "\n",
    "n = 300\n",
    "miu = 5.5\n",
    "\n",
    "def generar_individuos(n, miu):\n",
    "    numeros_aleatorios = np.random.normal(miu, 1.0, n)\n",
    "    #numeros_aleatorios = np.clip(numeros_aleatorios, lower_bound, upper_bound)\n",
    "    return list(map(int, numeros_aleatorios))"
   ]
  },
  {
   "cell_type": "code",
   "execution_count": 2,
   "id": "3a7b9ccd",
   "metadata": {},
   "outputs": [
    {
     "ename": "NameError",
     "evalue": "name 'demanda' is not defined",
     "output_type": "error",
     "traceback": [
      "\u001b[0;31m---------------------------------------------------------------------------\u001b[0m",
      "\u001b[0;31mNameError\u001b[0m                                 Traceback (most recent call last)",
      "Cell \u001b[0;32mIn[2], line 6\u001b[0m\n\u001b[1;32m      4\u001b[0m \u001b[38;5;66;03m# Datos de ejemplo: estaciones y demanda\u001b[39;00m\n\u001b[1;32m      5\u001b[0m num_estaciones \u001b[38;5;241m=\u001b[39m \u001b[38;5;241m300\u001b[39m\n\u001b[0;32m----> 6\u001b[0m demanda_estaciones \u001b[38;5;241m=\u001b[39m \u001b[43mdemanda\u001b[49m[:] \u001b[38;5;66;03m#[random.randint(1, 15) for _ in range(num_estaciones)]\u001b[39;00m\n\u001b[1;32m      8\u001b[0m \u001b[38;5;28mprint\u001b[39m(demanda_estaciones)\n\u001b[1;32m      9\u001b[0m \u001b[38;5;28mprint\u001b[39m(\u001b[38;5;28msum\u001b[39m(demanda_estaciones))\n",
      "\u001b[0;31mNameError\u001b[0m: name 'demanda' is not defined"
     ]
    }
   ],
   "source": [
    "import random\n",
    "import numpy as np\n",
    "\n",
    "# Datos de ejemplo: estaciones y demanda\n",
    "num_estaciones = 300\n",
    "demanda_estaciones = demanda[:] #[random.randint(1, 15) for _ in range(num_estaciones)]\n",
    "\n",
    "print(demanda_estaciones)\n",
    "print(sum(demanda_estaciones))\n",
    "# Parámetros del algoritmo genético\n",
    "num_generaciones = 100\n",
    "tamano_poblacion = 50\n",
    "prob_mutacion = 0.1\n",
    "\n",
    "limite_bicicletas = 1500#1600#3200  # Límite de bicicletas\n",
    "\n",
    "elitismo_ratio = 0.1  # Porcentaje de individuos elítistas a conservar\n",
    "\n",
    "def inicializar_poblacion(tamano_poblacion, num_estaciones, limite_bicicletas):\n",
    "    poblacion = []\n",
    "    \n",
    "    for _ in range(tamano_poblacion):\n",
    "        asignacion = generar_individuos(300, 5.5)\n",
    "        while sum(asignacion) != limite_bicicletas:\n",
    "            asignacion = generar_individuos(300, 5.5)\n",
    "        poblacion.append(asignacion)\n",
    "    return poblacion\n",
    "\n",
    "def evaluar_poblacion(poblacion, demanda_estaciones, limite_bicicletas):\n",
    "    evaluaciones = []\n",
    "    for asignacion in poblacion:\n",
    "        exceso_bicicletas = sum(asignacion) - limite_bicicletas\n",
    "        evaluacion = sum(np.abs(np.array(asignacion) - np.array(demanda_estaciones)))\n",
    "        if exceso_bicicletas > 0:\n",
    "            evaluacion += exceso_bicicletas  # Penaliza el exceso de bicicletas\n",
    "        evaluaciones.append(evaluacion)\n",
    "    return evaluaciones\n",
    "\n",
    "\n",
    "def seleccionar_mejores_padres(poblacion, evaluaciones, num_padres):\n",
    "    padres = [poblacion[i] for i in np.argsort(evaluaciones)[:num_padres]]\n",
    "    return padres\n",
    "\n",
    "def cruzar_padres(padre1, padre2):\n",
    "    punto_cruce = random.randint(1, len(padre1) - 1)\n",
    "    hijo1 = padre1[:punto_cruce] + padre2[punto_cruce:]\n",
    "    hijo2 = padre2[:punto_cruce] + padre1[punto_cruce:]\n",
    "    return hijo1, hijo2\n",
    "\n",
    "def mutar(individuo, prob_mutacion):\n",
    "    for i in range(len(individuo)):\n",
    "        if random.random() < prob_mutacion:\n",
    "            individuo[i] = random.randint(1, 20)\n",
    "    return individuo\n",
    "\n",
    "# Algoritmo genético\n",
    "poblacion = inicializar_poblacion(tamano_poblacion, num_estaciones, limite_bicicletas)\n",
    "\n",
    "for generacion in range(num_generaciones):\n",
    "    evaluaciones = evaluar_poblacion(poblacion, demanda_estaciones, limite_bicicletas)\n",
    "    mejores_padres = seleccionar_mejores_padres(poblacion, evaluaciones, tamano_poblacion // 2)\n",
    "\n",
    "    # Conservar una parte de los mejores individuos (elitismo)\n",
    "    num_elitistas = int(tamano_poblacion * elitismo_ratio)\n",
    "    poblacion_elitista = poblacion[:num_elitistas]\n",
    "\n",
    "    nueva_generacion = []\n",
    "    while len(nueva_generacion) < tamano_poblacion - num_elitistas:\n",
    "        padre1, padre2 = random.sample(mejores_padres, 2)\n",
    "        hijo1, hijo2 = cruzar_padres(padre1, padre2)\n",
    "        hijo1 = mutar(hijo1, prob_mutacion)\n",
    "        hijo2 = mutar(hijo2, prob_mutacion)\n",
    "\n",
    "        if sum(hijo1) > limite_bicicletas:\n",
    "            hijo1 = mutar(hijo1, prob_mutacion)\n",
    "        if sum(hijo2) > limite_bicicletas:\n",
    "            hijo2 = mutar(hijo2, prob_mutacion)\n",
    "\n",
    "        nueva_generacion.extend([hijo1, hijo2])\n",
    "\n",
    "    # Combinar la población elitista con la nueva generación\n",
    "    poblacion = poblacion_elitista + nueva_generacion\n",
    "\n",
    "mejor_asignacion = poblacion[np.argmin(evaluaciones)]\n",
    "print(\"Mejor asignación de bicicletas en estaciones:\", mejor_asignacion)\n",
    "\n",
    "print(sum(demanda_estaciones) - sum(mejor_asignacion))\n",
    "\n",
    "print(sum(mejor_asignacion))"
   ]
  },
  {
   "cell_type": "code",
   "execution_count": 3,
   "id": "8fcf1d8b",
   "metadata": {},
   "outputs": [],
   "source": [
    "data2 = pd.read_csv('data/nomenclatura.csv', encoding='ISO-8859-1')"
   ]
  },
  {
   "cell_type": "code",
   "execution_count": 24,
   "id": "7cedf61b",
   "metadata": {},
   "outputs": [
    {
     "ename": "NameError",
     "evalue": "name 'data2' is not defined",
     "output_type": "error",
     "traceback": [
      "\u001b[0;31m---------------------------------------------------------------------------\u001b[0m",
      "\u001b[0;31mNameError\u001b[0m                                 Traceback (most recent call last)",
      "Cell \u001b[0;32mIn[24], line 1\u001b[0m\n\u001b[0;32m----> 1\u001b[0m \u001b[43mdata2\u001b[49m\n",
      "\u001b[0;31mNameError\u001b[0m: name 'data2' is not defined"
     ]
    }
   ],
   "source": [
    "data2"
   ]
  },
  {
   "cell_type": "code",
   "execution_count": 23,
   "id": "41fb5897",
   "metadata": {},
   "outputs": [],
   "source": [
    "import folium"
   ]
  },
  {
   "cell_type": "code",
   "execution_count": null,
   "id": "34a58c13",
   "metadata": {},
   "outputs": [],
   "source": [
    "m = folium.Map(location=(lat_Mex,lon_Mex),zoom_start=12)\n",
    "\n",
    "for i in range(len(data2['latitude'])):\n",
    "    lat = data2['latitude'][i]\n",
    "    lon = data2['longitude'][i]\n",
    "    info = data2[['id', 'name']].loc[i]\n",
    "    info = pd.DataFrame(info)#.transpose().to_html(classes=classes) # Transpusimos la tabla\n",
    "    mark = folium.Marker(location=(lat,lon),popup=info) # Agregarle la tabla\n",
    "    mark.add_to(m)"
   ]
  },
  {
   "cell_type": "code",
   "execution_count": null,
   "id": "7b1adc16",
   "metadata": {},
   "outputs": [],
   "source": [
    "m"
   ]
  }
 ],
 "metadata": {
  "kernelspec": {
   "display_name": "Python 3",
   "language": "python",
   "name": "python3"
  },
  "language_info": {
   "codemirror_mode": {
    "name": "ipython",
    "version": 3
   },
   "file_extension": ".py",
   "mimetype": "text/x-python",
   "name": "python",
   "nbconvert_exporter": "python",
   "pygments_lexer": "ipython3",
   "version": "3.9.13"
  }
 },
 "nbformat": 4,
 "nbformat_minor": 5
}
