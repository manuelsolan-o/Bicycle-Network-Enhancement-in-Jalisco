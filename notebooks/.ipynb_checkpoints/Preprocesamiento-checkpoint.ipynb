{
 "cells": [
  {
   "cell_type": "code",
   "execution_count": 1,
   "id": "37f3b639",
   "metadata": {},
   "outputs": [],
   "source": [
    "import pandas as pd"
   ]
  },
  {
   "cell_type": "code",
   "execution_count": 2,
   "id": "33afdb47",
   "metadata": {},
   "outputs": [],
   "source": [
    "data = pd.read_csv('data/datos_abiertos_2023_01.csv')"
   ]
  },
  {
   "cell_type": "code",
   "execution_count": 3,
   "id": "96397780",
   "metadata": {},
   "outputs": [
    {
     "data": {
      "text/html": [
       "<div>\n",
       "<style scoped>\n",
       "    .dataframe tbody tr th:only-of-type {\n",
       "        vertical-align: middle;\n",
       "    }\n",
       "\n",
       "    .dataframe tbody tr th {\n",
       "        vertical-align: top;\n",
       "    }\n",
       "\n",
       "    .dataframe thead th {\n",
       "        text-align: right;\n",
       "    }\n",
       "</style>\n",
       "<table border=\"1\" class=\"dataframe\">\n",
       "  <thead>\n",
       "    <tr style=\"text-align: right;\">\n",
       "      <th></th>\n",
       "      <th>Viaje_Id</th>\n",
       "      <th>Usuario_Id</th>\n",
       "      <th>Genero</th>\n",
       "      <th>A�o_de_nacimiento</th>\n",
       "      <th>Inicio_del_viaje</th>\n",
       "      <th>Fin_del_viaje</th>\n",
       "      <th>Origen_Id</th>\n",
       "      <th>Destino_Id</th>\n",
       "    </tr>\n",
       "  </thead>\n",
       "  <tbody>\n",
       "    <tr>\n",
       "      <th>0</th>\n",
       "      <td>26751198</td>\n",
       "      <td>1350606</td>\n",
       "      <td>M</td>\n",
       "      <td>1983.0</td>\n",
       "      <td>2023-01-01 00:00:41</td>\n",
       "      <td>2023-01-01 00:26:52</td>\n",
       "      <td>154</td>\n",
       "      <td>50</td>\n",
       "    </tr>\n",
       "    <tr>\n",
       "      <th>1</th>\n",
       "      <td>26751199</td>\n",
       "      <td>15163</td>\n",
       "      <td>M</td>\n",
       "      <td>1986.0</td>\n",
       "      <td>2023-01-01 00:04:48</td>\n",
       "      <td>2023-01-01 00:07:46</td>\n",
       "      <td>64</td>\n",
       "      <td>79</td>\n",
       "    </tr>\n",
       "    <tr>\n",
       "      <th>2</th>\n",
       "      <td>26751200</td>\n",
       "      <td>1534764</td>\n",
       "      <td>M</td>\n",
       "      <td>1987.0</td>\n",
       "      <td>2023-01-01 00:06:49</td>\n",
       "      <td>2023-01-01 00:17:36</td>\n",
       "      <td>35</td>\n",
       "      <td>12</td>\n",
       "    </tr>\n",
       "    <tr>\n",
       "      <th>3</th>\n",
       "      <td>26751201</td>\n",
       "      <td>1240140</td>\n",
       "      <td>M</td>\n",
       "      <td>1996.0</td>\n",
       "      <td>2023-01-01 00:08:05</td>\n",
       "      <td>2023-01-01 00:09:00</td>\n",
       "      <td>35</td>\n",
       "      <td>35</td>\n",
       "    </tr>\n",
       "    <tr>\n",
       "      <th>4</th>\n",
       "      <td>26751202</td>\n",
       "      <td>1732214</td>\n",
       "      <td>M</td>\n",
       "      <td>1969.0</td>\n",
       "      <td>2023-01-01 00:09:14</td>\n",
       "      <td>2023-01-01 00:14:57</td>\n",
       "      <td>54</td>\n",
       "      <td>171</td>\n",
       "    </tr>\n",
       "    <tr>\n",
       "      <th>...</th>\n",
       "      <td>...</td>\n",
       "      <td>...</td>\n",
       "      <td>...</td>\n",
       "      <td>...</td>\n",
       "      <td>...</td>\n",
       "      <td>...</td>\n",
       "      <td>...</td>\n",
       "      <td>...</td>\n",
       "    </tr>\n",
       "    <tr>\n",
       "      <th>366013</th>\n",
       "      <td>27176723</td>\n",
       "      <td>344644</td>\n",
       "      <td>M</td>\n",
       "      <td>2000.0</td>\n",
       "      <td>2023-01-31 23:57:49</td>\n",
       "      <td>2023-02-01 00:08:49</td>\n",
       "      <td>215</td>\n",
       "      <td>198</td>\n",
       "    </tr>\n",
       "    <tr>\n",
       "      <th>366014</th>\n",
       "      <td>27176726</td>\n",
       "      <td>2057371</td>\n",
       "      <td>M</td>\n",
       "      <td>1998.0</td>\n",
       "      <td>2023-01-31 23:58:36</td>\n",
       "      <td>2023-02-01 00:06:23</td>\n",
       "      <td>63</td>\n",
       "      <td>52</td>\n",
       "    </tr>\n",
       "    <tr>\n",
       "      <th>366015</th>\n",
       "      <td>27176730</td>\n",
       "      <td>355465</td>\n",
       "      <td>M</td>\n",
       "      <td>1994.0</td>\n",
       "      <td>2023-01-31 23:59:33</td>\n",
       "      <td>2023-02-01 00:03:13</td>\n",
       "      <td>80</td>\n",
       "      <td>81</td>\n",
       "    </tr>\n",
       "    <tr>\n",
       "      <th>366016</th>\n",
       "      <td>27176731</td>\n",
       "      <td>152612</td>\n",
       "      <td>M</td>\n",
       "      <td>1989.0</td>\n",
       "      <td>2023-01-31 23:59:36</td>\n",
       "      <td>2023-02-01 00:06:34</td>\n",
       "      <td>289</td>\n",
       "      <td>111</td>\n",
       "    </tr>\n",
       "    <tr>\n",
       "      <th>366017</th>\n",
       "      <td>27176732</td>\n",
       "      <td>1213162</td>\n",
       "      <td>M</td>\n",
       "      <td>1988.0</td>\n",
       "      <td>2023-01-31 23:59:54</td>\n",
       "      <td>2023-02-01 00:12:30</td>\n",
       "      <td>296</td>\n",
       "      <td>304</td>\n",
       "    </tr>\n",
       "  </tbody>\n",
       "</table>\n",
       "<p>366018 rows × 8 columns</p>\n",
       "</div>"
      ],
      "text/plain": [
       "        Viaje_Id  Usuario_Id Genero  A�o_de_nacimiento     Inicio_del_viaje  \\\n",
       "0       26751198     1350606      M             1983.0  2023-01-01 00:00:41   \n",
       "1       26751199       15163      M             1986.0  2023-01-01 00:04:48   \n",
       "2       26751200     1534764      M             1987.0  2023-01-01 00:06:49   \n",
       "3       26751201     1240140      M             1996.0  2023-01-01 00:08:05   \n",
       "4       26751202     1732214      M             1969.0  2023-01-01 00:09:14   \n",
       "...          ...         ...    ...                ...                  ...   \n",
       "366013  27176723      344644      M             2000.0  2023-01-31 23:57:49   \n",
       "366014  27176726     2057371      M             1998.0  2023-01-31 23:58:36   \n",
       "366015  27176730      355465      M             1994.0  2023-01-31 23:59:33   \n",
       "366016  27176731      152612      M             1989.0  2023-01-31 23:59:36   \n",
       "366017  27176732     1213162      M             1988.0  2023-01-31 23:59:54   \n",
       "\n",
       "              Fin_del_viaje  Origen_Id  Destino_Id  \n",
       "0       2023-01-01 00:26:52        154          50  \n",
       "1       2023-01-01 00:07:46         64          79  \n",
       "2       2023-01-01 00:17:36         35          12  \n",
       "3       2023-01-01 00:09:00         35          35  \n",
       "4       2023-01-01 00:14:57         54         171  \n",
       "...                     ...        ...         ...  \n",
       "366013  2023-02-01 00:08:49        215         198  \n",
       "366014  2023-02-01 00:06:23         63          52  \n",
       "366015  2023-02-01 00:03:13         80          81  \n",
       "366016  2023-02-01 00:06:34        289         111  \n",
       "366017  2023-02-01 00:12:30        296         304  \n",
       "\n",
       "[366018 rows x 8 columns]"
      ]
     },
     "execution_count": 3,
     "metadata": {},
     "output_type": "execute_result"
    }
   ],
   "source": [
    "data"
   ]
  },
  {
   "cell_type": "code",
   "execution_count": 6,
   "id": "7c8757a1",
   "metadata": {},
   "outputs": [
    {
     "data": {
      "text/plain": [
       "300"
      ]
     },
     "execution_count": 6,
     "metadata": {},
     "output_type": "execute_result"
    }
   ],
   "source": [
    "len(data['Origen_Id'].unique())"
   ]
  },
  {
   "cell_type": "code",
   "execution_count": 7,
   "id": "9311c3af",
   "metadata": {},
   "outputs": [
    {
     "data": {
      "text/plain": [
       "300"
      ]
     },
     "execution_count": 7,
     "metadata": {},
     "output_type": "execute_result"
    }
   ],
   "source": [
    "len(data['Destino_Id'].unique())"
   ]
  },
  {
   "cell_type": "code",
   "execution_count": null,
   "id": "0887c3ce",
   "metadata": {},
   "outputs": [],
   "source": []
  }
 ],
 "metadata": {
  "kernelspec": {
   "display_name": "Python 3",
   "language": "python",
   "name": "python3"
  },
  "language_info": {
   "codemirror_mode": {
    "name": "ipython",
    "version": 3
   },
   "file_extension": ".py",
   "mimetype": "text/x-python",
   "name": "python",
   "nbconvert_exporter": "python",
   "pygments_lexer": "ipython3",
   "version": "3.9.13"
  }
 },
 "nbformat": 4,
 "nbformat_minor": 5
}
